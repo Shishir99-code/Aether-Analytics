{
 "cells": [
  {
   "cell_type": "code",
   "execution_count": null,
   "id": "b38f0892",
   "metadata": {},
   "outputs": [],
   "source": [
    "import sys\n",
    "from pdfminer.pdfinterp import PDFResourceManager, PDFPageInterpreter\n",
    "from pdfminer.pdfpage import PDFPage\n",
    "from pdfminer.converter import XMLConverter, HTMLConverter, TextConverter\n",
    "from pdfminer.layout import LAParams\n",
    "from io import StringIO"
   ]
  },
  {
   "cell_type": "code",
   "execution_count": null,
   "id": "a1d5dd52",
   "metadata": {},
   "outputs": [],
   "source": [
    "import pandas as pd\n",
    "import numpy as np\n",
    "import os\n",
    "import regex as re\n",
    "import nltk\n",
    "import string\n",
    "from nltk.tokenize import word_tokenize, sent_tokenize\n",
    "from nltk.corpus import wordnet \n",
    "from nltk.corpus import stopwords\n",
    "from nltk.stem import PorterStemmer\n",
    "from nltk.tokenize import RegexpTokenizer\n",
    "import random\n",
    "from random import shuffle\n",
    "from collections import OrderedDict"
   ]
  },
  {
   "cell_type": "code",
   "execution_count": null,
   "id": "a7060c7d",
   "metadata": {},
   "outputs": [],
   "source": [
    "from sklearn.feature_extraction.text import TfidfVectorizer\n",
    "from sklearn.metrics.pairwise import cosine_similarity"
   ]
  },
  {
   "cell_type": "code",
   "execution_count": null,
   "id": "c07d7292",
   "metadata": {},
   "outputs": [],
   "source": [
    "# import spacy\n",
    "# nlp = spacy.load('en_core_web_sm')"
   ]
  },
  {
   "cell_type": "code",
   "execution_count": null,
   "id": "5fe6318f",
   "metadata": {},
   "outputs": [],
   "source": [
    "def convert_pdf_to_txt(path):\n",
    "    rsrcmgr = PDFResourceManager()\n",
    "    retstr = StringIO()\n",
    "    codec = 'utf-8'\n",
    "    laparams = LAParams()\n",
    "    device = TextConverter(rsrcmgr, retstr, laparams=laparams)\n",
    "    fp = open(path, 'rb')\n",
    "    interpreter = PDFPageInterpreter(rsrcmgr, device)\n",
    "    password = \"\"\n",
    "    maxpages = 0\n",
    "    caching = True\n",
    "    pagenos=set()\n",
    "\n",
    "    for page in PDFPage.get_pages(fp, pagenos, maxpages=maxpages, password=password,caching=caching, check_extractable=True):\n",
    "        interpreter.process_page(page)\n",
    "\n",
    "    text = retstr.getvalue()\n",
    "\n",
    "    fp.close()\n",
    "    device.close()\n",
    "    retstr.close()\n",
    "    return text"
   ]
  },
  {
   "cell_type": "code",
   "execution_count": null,
   "id": "44333788",
   "metadata": {},
   "outputs": [],
   "source": [
    "resumes = os.listdir('Resumes')\n",
    "resumes.remove('.DS_Store')\n",
    "resume_dictionary = {}\n",
    "for resume in resumes:\n",
    "    root = 'Resumes/'\n",
    "    index = resume.find('_')\n",
    "    resume_dictionary[resume[:index]] = convert_pdf_to_txt(root + resume)"
   ]
  },
  {
   "cell_type": "code",
   "execution_count": null,
   "id": "a7510cb5",
   "metadata": {},
   "outputs": [],
   "source": [
    "df_resumes = pd.read_csv(\"Data/UpdatedResumeDataSet.csv\")\n",
    "df_resumes = df_resumes.dropna()\n",
    "df_resumes = df_resumes.drop_duplicates(subset=['Resume'])\n",
    "for i in range(0, df_resumes.shape[0]):\n",
    "    resume_dictionary[df_resumes['Name'].values[i]] = df_resumes['Resume'].values[i]"
   ]
  },
  {
   "cell_type": "markdown",
   "id": "ba984d9e",
   "metadata": {},
   "source": [
    "#### Cleaning Resume"
   ]
  },
  {
   "cell_type": "code",
   "execution_count": null,
   "id": "08575b24",
   "metadata": {},
   "outputs": [],
   "source": [
    "default_stemmer = PorterStemmer()\n",
    "default_stopwords = stopwords.words('english') # or any other list of your choice\n",
    "default_stopwords = list(string.ascii_lowercase) + default_stopwords"
   ]
  },
  {
   "cell_type": "code",
   "execution_count": null,
   "id": "0a5a8074",
   "metadata": {},
   "outputs": [],
   "source": [
    "def misc_cleaning(text):\n",
    "    text = re.sub('\\n', ' ', text)\n",
    "    text = re.sub('√¢¬Ä¬¢', ' ', text)\n",
    "    text = re.sub('√¢¬ù¬ñ', ' ', text)\n",
    "    text = re.sub('○␣', ' ', text)\n",
    "    text = re.sub(\" rt \", \" \", text)\n",
    "    text = re.sub(\"@\\S+\", \"\", text)\n",
    "    text = re.sub(' y ', '', text) # gets rid of random y accent stuff scattered through the text\n",
    "    text = re.sub('yyy', 'y', text)\n",
    "    text = re.sub('\\n', '', text)\n",
    "    text = text.replace(\"(\",\" \").replace(\")\",\" \")\n",
    "    text = re.sub(r\"[^A-Za-z0-9^,!.\\/'+-=]\", \" \", text)\n",
    "    text = re.sub(r\"what's\", \"what is \", text)\n",
    "    text = re.sub(r\"\\'s\", \" \", text)\n",
    "    text = re.sub(r\"\\'ve\", \" have \", text)\n",
    "    text = re.sub(r\"can't\", \"cannot \", text)\n",
    "    text = re.sub(r\"n't\", \" not \", text)\n",
    "    text = re.sub(r\"i'm\", \"i am \", text)\n",
    "    text = re.sub(r\"\\'re\", \" are \", text)\n",
    "    text = re.sub(r\"\\'d\", \" would \", text)\n",
    "    text = re.sub(r\"\\'ll\", \" will \", text)\n",
    "    text = re.sub(r\",\", \" \", text)\n",
    "    text = re.sub(r\"\\.\", \" \", text)\n",
    "    text = re.sub(r\"!\", \" ! \", text)\n",
    "    text = re.sub(r\"\\/\", \" \", text)\n",
    "    text = re.sub(r\"\\^\", \" ^ \", text)\n",
    "    text = re.sub(r\"\\+\", \" + \", text)\n",
    "    text = re.sub(r\"\\-\", \" - \", text)\n",
    "    text = re.sub(r\"\\=\", \" = \", text)\n",
    "    text = re.sub(r\"'\", \" \", text)\n",
    "    text = re.sub(r\"(\\d+)(k)\", r\"\\g<1>000\", text)\n",
    "    text = re.sub(r\":\", \" : \", text)\n",
    "    text = re.sub(r\" e g \", \" eg \", text)\n",
    "    text = re.sub(r\" b g \", \" bg \", text)\n",
    "    text = re.sub(r\" u s \", \" american \", text)\n",
    "    text = re.sub(r\"\\0s\", \"0\", text)\n",
    "    text = re.sub(r\" 9 11 \", \"911\", text)\n",
    "    text = re.sub(r\"e - mail\", \"email\", text)\n",
    "    text = re.sub(r\"j k\", \"jk\", text)\n",
    "    text = re.sub(r\"\\s{2,}\", \" \", text)\n",
    "    text = re.sub('https?://\\S+|www\\.\\S+', '', text)\n",
    "    text = re.sub(' +', ' ', text)\n",
    "    return text\n",
    "\n",
    "def tokenize_text(text):\n",
    "    return [w for s in sent_tokenize(text) for w in word_tokenize(s)]\n",
    "\n",
    "def clean_text(text, remove_punctuation = False, stem_text = False, \n",
    "               remove_stopwords = False, remove_num = False):\n",
    "        \n",
    "        text = \" \" + text + \" \"\n",
    "        text = text.lower()\n",
    "        text = misc_cleaning(text) # look at function, random cleaning stuff\n",
    "        # removes punctuation\n",
    "        if remove_punctuation:\n",
    "            text = \"\".join([(ch if ch not in string.punctuation else \" \") for ch in text]).strip()\n",
    "        # optional: stems text using Porter Stemmer\n",
    "        if stem_text:\n",
    "            stemmer = default_stemmer\n",
    "            tokens = tokenize_text(text)\n",
    "            text = \" \".join([stemmer.stem(t) for t in tokens])\n",
    "        # removes stop words such as \"a\", \"the\", etc.\n",
    "        if remove_stopwords:\n",
    "            stop_words = default_stopwords\n",
    "            tokens = [w for w in tokenize_text(text) if w not in stop_words]\n",
    "            text = \" \".join(tokens)\n",
    "        # optional: removes numbers completely from the ext\n",
    "        if remove_num:\n",
    "            text=text.split()\n",
    "            text=[x for x in text if not x.isnumeric()]\n",
    "            text= \" \".join(text)\n",
    "        text = \" \" + text + \" \"\n",
    "        \n",
    "        return text\n",
    "\n",
    "\n",
    "def _reduce_redundancy(text):\n",
    "    \"\"\"\n",
    "    Takes in text that has been cleaned by the _base_clean and uses set to reduce the repeating words\n",
    "    giving only a single word that is needed.\n",
    "    \"\"\"\n",
    "    words = text.split(' ')\n",
    "    return \" \".join(list(set(words)))\n",
    "\n",
    "\n",
    "def _get_target_words(text):\n",
    "    \"\"\"\n",
    "    Takes in text and uses Spacy Tags on it, to extract the relevant Noun, Proper Noun words that contain words related to tech and JD. \n",
    "    \"\"\"\n",
    "    target = []\n",
    "    doc = nlp(text)\n",
    "    for token in doc:\n",
    "        if token.tag_ in ['NN', 'NNP']:\n",
    "            target.append(token.text)\n",
    "    return \" \".join(target)"
   ]
  },
  {
   "cell_type": "code",
   "execution_count": null,
   "id": "e534cb45",
   "metadata": {},
   "outputs": [],
   "source": [
    "for person in resume_dictionary:\n",
    "    resume = resume_dictionary[person]\n",
    "    clean_resume = clean_text(resume, remove_punctuation = True, stem_text = False, \n",
    "               remove_stopwords = True, remove_num = True)\n",
    "    resume_dictionary[person] = _reduce_redundancy(clean_resume)"
   ]
  },
  {
   "cell_type": "markdown",
   "id": "6aba828c",
   "metadata": {},
   "source": [
    "#### Similarity Score Utility Functions"
   ]
  },
  {
   "cell_type": "code",
   "execution_count": null,
   "id": "063ed752",
   "metadata": {},
   "outputs": [],
   "source": [
    "def calculate_jaccard(word_tokens1, word_tokens2):\n",
    "    # Combine both tokens to find union.\n",
    "    both_tokens = word_tokens1 + word_tokens2\n",
    "    union = set(both_tokens)\n",
    "    # Calculate intersection.\n",
    "    intersection = set()\n",
    "    for w in word_tokens1:\n",
    "        if w in word_tokens2:\n",
    "            intersection.add(w)\n",
    "    jaccard_score = len(intersection)/len(union)\n",
    "    return jaccard_score\n",
    "\n",
    "\n",
    "def jaccard_similarity(resume_dictionary):\n",
    "    base_resume = list(resume_dictionary.values())[0]\n",
    "    other_resumes = list(resume_dictionary.values())[1:]\n",
    "    score_dictionary = {}\n",
    "    highest_individual = None\n",
    "    highest_score = 0\n",
    "    for i, other in enumerate(other_resumes):\n",
    "        score = calculate_jaccard(base_resume.split(' '), other.split(' '))\n",
    "        score_dictionary[list(resume_dictionary.keys())[i+1]] = score\n",
    "        if score > highest_score:\n",
    "            highest_score = score\n",
    "            highest_individual = list(resume_dictionary.keys())[i+1]\n",
    "    return score_dictionary, highest_individual\n",
    "\n",
    "\n",
    "def process_tfidf_similarity(resume_dictionary):\n",
    "    # First key of dictionary should b resume of comparison\n",
    "    documents = list(resume_dictionary.values())\n",
    "    vectorizer = TfidfVectorizer()\n",
    "    # To make uniformed vectors, both documents need to be combined first.\n",
    "    embeddings = vectorizer.fit_transform(documents)\n",
    "    cosine_similarities = cosine_similarity(embeddings[0:1], embeddings[1:]).flatten()\n",
    "    score_dictionary = {}\n",
    "    highest_individual = None\n",
    "    highest_score = 0\n",
    "    for i, score in enumerate(cosine_similarities):\n",
    "        score_dictionary[list(resume_dictionary.keys())[i+1]] = score\n",
    "        if score > highest_score:\n",
    "            highest_score = score\n",
    "            highest_individual = list(resume_dictionary.keys())[i+1]\n",
    "    return score_dictionary, highest_individual"
   ]
  },
  {
   "cell_type": "code",
   "execution_count": null,
   "id": "81ca6b7d",
   "metadata": {},
   "outputs": [],
   "source": [
    "individual = 'SurajRajendran'\n",
    "other_individuals = list(resume_dictionary.keys())\n",
    "other_individuals.remove(individual)\n",
    "key_order = [individual] + other_individuals\n",
    "resume_dictionary = {k : resume_dictionary[k] for k in key_order}"
   ]
  },
  {
   "cell_type": "code",
   "execution_count": null,
   "id": "b0910d25",
   "metadata": {},
   "outputs": [],
   "source": [
    "# Jaccard Matching Matching\n",
    "jaccard_score_dictionary, jacc_matched_individual = jaccard_similarity(resume_dictionary)"
   ]
  },
  {
   "cell_type": "code",
   "execution_count": null,
   "id": "baf31669",
   "metadata": {},
   "outputs": [],
   "source": [
    "# TF-IDF Matching\n",
    "tfidf_score_dictionary, tf_matched_individual = process_tfidf_similarity(resume_dictionary)"
   ]
  },
  {
   "cell_type": "code",
   "execution_count": null,
   "id": "5223051e",
   "metadata": {},
   "outputs": [],
   "source": [
    "print(\"Matches from Similarity Metrics:\")\n",
    "print(f\"Most Similar (Jaccard): {jacc_matched_individual}\")\n",
    "print(f\"Most Similar (TF-IDF): {tf_matched_individual}\")"
   ]
  },
  {
   "cell_type": "code",
   "execution_count": null,
   "id": "d5376ee9",
   "metadata": {},
   "outputs": [],
   "source": [
    "dict(sorted(tfidf_score_dictionary.items(), key=lambda item: item[1]))"
   ]
  }
 ],
 "metadata": {
  "kernelspec": {
   "display_name": "Python 3 (ipykernel)",
   "language": "python",
   "name": "python3"
  },
  "language_info": {
   "codemirror_mode": {
    "name": "ipython",
    "version": 3
   },
   "file_extension": ".py",
   "mimetype": "text/x-python",
   "name": "python",
   "nbconvert_exporter": "python",
   "pygments_lexer": "ipython3",
   "version": "3.8.12"
  }
 },
 "nbformat": 4,
 "nbformat_minor": 5
}
